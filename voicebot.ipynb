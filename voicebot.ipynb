{
 "cells": [
  {
   "cell_type": "code",
   "execution_count": 1,
   "metadata": {},
   "outputs": [],
   "source": [
    "from langchain.prompts import PromptTemplate\n",
    "from langchain_google_genai import ChatGoogleGenerativeAI\n",
    "\n",
    "import os\n",
    "from dotenv import load_dotenv\n",
    "\n",
    "# Load environment variables (for API keys)\n",
    "load_dotenv()\n",
    "\n",
    "os.environ[\"GOOGLE_API_KEY\"] = os.getenv(\"GOOGLE_API_KEY\")"
   ]
  },
  {
   "cell_type": "code",
   "execution_count": 2,
   "metadata": {},
   "outputs": [],
   "source": [
    "import pyttsx3\n",
    "import speech_recognition as sr\n",
    "import time\n",
    "import json\n",
    "\n",
    "# Initialize TTS engine\n",
    "engine = pyttsx3.init()\n",
    "engine.setProperty('rate', 150)\n",
    "\n",
    "recognizer = sr.Recognizer()\n",
    "mic = sr.Microphone()\n"
   ]
  },
  {
   "cell_type": "code",
   "execution_count": 3,
   "metadata": {},
   "outputs": [],
   "source": [
    "\n",
    "\n",
    "llm = ChatGoogleGenerativeAI(model=\"gemini-2.0-flash\",)\n",
    "\n",
    "# Define an improved feedback prompt template\n",
    "# feedback_template = \"\"\"\n",
    "# You are an empathetic interview coach helping a candidate improve their responses to common interview questions. The candidate's answers may contain speech recognition errors or be incomplete.\n",
    "\n",
    "# QUESTION: {question}\n",
    "# CANDIDATE'S ANSWER: {answer}\n",
    "\n",
    "# Please provide brief, actionable feedback that:\n",
    "# 1. Acknowledges possible speech recognition errors without dwelling on them\n",
    "# 2. Focuses on what a strong answer should contain\n",
    "# 3. Provides specific, industry-relevant guidance\n",
    "# 4. Is supportive and encouraging\n",
    "\n",
    "# Your response should be concise (max 50 words) and follow this structure:\n",
    "# followup quesiton is {followup_question}\n",
    "# Be conversational, supportive, and specific.\n",
    "\n",
    "# the ouput should consisint and oppoint \n",
    "# \"\"\"\n",
    "\n",
    "# from langchain_core.prompts import ChatPromptTemplate, MessagesPlaceholder\n",
    "\n",
    "# feedback_template = \"\"\"\n",
    "# You are a helpful visa interview coach. Your feedback will be spoken aloud to the applicant through text-to-speech, so write in a natural speaking style without sections, bullet points, or special formatting.\n",
    "\n",
    "# QUESTION ASKED: {question}\n",
    "# APPLICANT'S ANSWER: {answer}\n",
    "# NEXT QUESTION IN QUEUE: {followup_question}\n",
    "\n",
    "# Provide brief, conversational feedback (60-80 words) that:\n",
    "# 1. Acknowledges one strength in their answer\n",
    "# 2. Suggests one specific improvement\n",
    "# 3. Smoothly transitions to the next question\n",
    "\n",
    "# Guidelines:\n",
    "# - Use natural speech patterns suitable for speaking aloud\n",
    "# - Avoid phrases like \"FEEDBACK:\", \"STRENGTHS:\", or any headings\n",
    "# - Don't repeat the applicant's full answer back to them\n",
    "# - Don't use special characters, bullet points, or numbering\n",
    "# - End by clearly stating \"Now for your next question:\" followed by the exact text of the follow-up question , if there is no followup question conclude it key point to imporve \n",
    "\n",
    "# Example of good response style:\n",
    "# \"That's a good point about your return ticket. You might want to mention your job commitments back home as well, as this shows ties to your country. Now for your next question: What is the purpose of your visit?\"\n",
    "# \"\"\"\n",
    "# feedback_prompt = PromptTemplate(\n",
    "#     input_variables=[\"question\", \"answer\",\"followup_question\"],\n",
    "#     template=feedback_template\n",
    "# )\n",
    "\n",
    "\n",
    "llm = ChatGoogleGenerativeAI(model=\"gemini-2.0-flash\",)\n",
    "\n",
    "# Define an improved feedback prompt template\n",
    "# feedback_template = \"\"\"\n",
    "# You are an empathetic interview coach helping a candidate improve their responses to common interview questions. The candidate's answers may contain speech recognition errors or be incomplete.\n",
    "\n",
    "# QUESTION: {question}\n",
    "# CANDIDATE'S ANSWER: {answer}\n",
    "\n",
    "# Please provide brief, actionable feedback that:\n",
    "# 1. Acknowledges possible speech recognition errors without dwelling on them\n",
    "# 2. Focuses on what a strong answer should contain\n",
    "# 3. Provides specific, industry-relevant guidance\n",
    "# 4. Is supportive and encouraging\n",
    "\n",
    "# Your response should be concise (max 50 words) and follow this structure:\n",
    "# followup quesiton is {followup_question}\n",
    "# Be conversational, supportive, and specific.\n",
    "\n",
    "# the ouput should consisint and oppoint \n",
    "# \"\"\"\n"
   ]
  },
  {
   "cell_type": "code",
   "execution_count": 4,
   "metadata": {},
   "outputs": [],
   "source": [
    "from langchain_community.chat_message_histories import SQLChatMessageHistory\n",
    "\n",
    "\n",
    "def get_session_history(session_id):\n",
    "    return SQLChatMessageHistory(session_id, \"sqlite:///memory.db\")"
   ]
  },
  {
   "cell_type": "code",
   "execution_count": 5,
   "metadata": {},
   "outputs": [],
   "source": [
    "\n",
    "from langchain_core.prompts import ChatPromptTemplate, MessagesPlaceholder\n",
    "from langchain_core.messages import HumanMessage\n",
    "from langchain_core.runnables.history import RunnableWithMessageHistory\n",
    "# QUESTION ASKED: {question}\n",
    "# APPLICANT'S ANSWER: {answer}\n",
    "# NEXT QUESTION IN QUEUE: {followup_question}\n",
    "\n",
    "feedback_template = \"\"\"\n",
    "You are a helpful visa interview coach. Your feedback will be spoken aloud to the applicant through text-to-speech, so write in a natural speaking style without sections, bullet points, or special formatting.\n",
    "\n",
    "\n",
    "\n",
    "Provide brief, conversational feedback (60-80 words) that:\n",
    "1. Acknowledges one strength in their answer\n",
    "2. Suggests one specific improvement\n",
    "3. Smoothly transitions to the next question\n",
    "\n",
    "Guidelines:\n",
    "- Use natural speech patterns suitable for speaking aloud\n",
    "- Avoid phrases like \"FEEDBACK:\", \"STRENGTHS:\", or any headings\n",
    "- Don't repeat the applicant's full answer back to them\n",
    "- Don't use special characters, bullet points, or numbering\n",
    "- End by clearly stating \"Now for your next question:\" followed by the exact text of the follow-up question , if there is no followup question conclude it key point to imporve \n",
    "\n",
    "Example of good response style:\n",
    "\"That's a good point about your return ticket. You might want to mention your job commitments back home as well, as this shows ties to your country. Now for your next question: What is the purpose of your visit?\"\n",
    "\"\"\"\n",
    "\n",
    "feedback_prompt = ChatPromptTemplate.from_messages([\n",
    "    (\"system\", feedback_template),\n",
    "    MessagesPlaceholder(variable_name=\"history\"),\n",
    "    (\"human\", \"Question: {question}\\nAnswer: {answer}\\nNext question: {followup_question}\")\n",
    "])\n",
    "\n",
    "runnable=feedback_prompt|llm\n",
    "\n",
    "runnable_with_history = RunnableWithMessageHistory(\n",
    "    runnable,\n",
    "    get_session_history,\n",
    "    input_messages_key=\"input\",\n",
    "    history_messages_key=\"history\",\n",
    ")\n"
   ]
  },
  {
   "cell_type": "code",
   "execution_count": 6,
   "metadata": {},
   "outputs": [],
   "source": [
    "\n",
    "questions = [\n",
    "    \"Why did you choose this particular time to travel?.\",\n",
    "    \"What is the purpose of getting vica ?\",\n",
    "    \"Why are you traveling at this time?\",\n",
    "    \"Have you traveled abroad before?\",\n",
    "    \"Do you have travel insurance?\",\n",
    "    \"What do you do for a living in your home country?\"\n",
    "]"
   ]
  },
  {
   "cell_type": "code",
   "execution_count": 7,
   "metadata": {},
   "outputs": [],
   "source": [
    "def speak(text):\n",
    "    engine.say(text)\n",
    "    engine.runAndWait()\n"
   ]
  },
  {
   "cell_type": "code",
   "execution_count": 8,
   "metadata": {},
   "outputs": [],
   "source": [
    "def listen_to_answer():\n",
    "    with mic as source:\n",
    "        recognizer.adjust_for_ambient_noise(source)\n",
    "        print(\"🎙️ Listening...\")\n",
    "        audio = recognizer.listen(source)\n",
    "\n",
    "    try:\n",
    "        response = recognizer.recognize_google(audio)\n",
    "        print(f\"🗣️ You said: {response}\")\n",
    "        return response\n",
    "    except sr.UnknownValueError:\n",
    "        print(\"❌ Sorry, I couldn't understand you.\")\n",
    "        return \"[Unrecognized speech]\"\n",
    "    except sr.RequestError:\n",
    "        print(\"⚠️ Could not reach the speech service.\")\n",
    "        return \"[Speech service error]\""
   ]
  },
  {
   "cell_type": "code",
   "execution_count": 9,
   "metadata": {},
   "outputs": [],
   "source": [
    "responses = []\n",
    "def run_mock_interview():\n",
    "    print(\"🤖 Starting your mock interview...\")\n",
    "    speak(\"Welcome to your mock interview. Let's begin.\")\n",
    "    speak(questions[0])\n",
    "\n",
    "    for i, q in enumerate(questions):\n",
    "        print(f\"\\n🧠 Question: {q}\")\n",
    "        # speak(q)\n",
    "        \n",
    "        # Listen to the candidate's answer\n",
    "        answer = listen_to_answer()\n",
    "        \n",
    "        # Determine the follow-up question\n",
    "        next_question = questions[i + 1] if i + 1 < len(questions) else \"No further questions.\"\n",
    "        \n",
    "        # Pass the question, answer, and follow-up question to the LLM\n",
    "        result = runnable_with_history.invoke({'question': q, \"answer\": answer, \"followup_question\": next_question, 'input': \"some_input_value\"},config={\"configurable\": {\"session_id\": \"2\"}})\n",
    "        \n",
    "        # Speak the LLM's response\n",
    "        speak(result.content)\n",
    "        \n",
    "        # Save the response\n",
    "        responses.append({\n",
    "            \"question\": q,\n",
    "            \"answer\": answer,\n",
    "            \"feedback\": result.content\n",
    "        })\n",
    "        \n",
    "        input(\"Press Enter for the next question...\")\n",
    "\n",
    "    # Save responses to a file\n",
    "    with open(\"interview_responses.json\", \"w\", encoding='utf-8') as f:\n",
    "        json.dump(responses, f, indent=4)\n",
    "\n",
    "    speak(\"Thank you. This concludes your mock interview.\")\n",
    "    print(\"\\n✅ Done! Your responses have been saved to 'interview_responses.json'.\")\n"
   ]
  },
  {
   "cell_type": "code",
   "execution_count": null,
   "metadata": {},
   "outputs": [],
   "source": []
  },
  {
   "cell_type": "code",
   "execution_count": 10,
   "metadata": {},
   "outputs": [
    {
     "name": "stdout",
     "output_type": "stream",
     "text": [
      "🤖 Starting your mock interview...\n",
      "\n",
      "🧠 Question: Why did you choose this particular time to travel?.\n",
      "🎙️ Listening...\n",
      "🗣️ You said: I am Akshay I am need to travel because one business plan\n"
     ]
    },
    {
     "name": "stderr",
     "output_type": "stream",
     "text": [
      "c:\\Users\\AkshayKumarBM\\miniconda3\\envs\\voic\\Lib\\site-packages\\langchain_core\\runnables\\history.py:602: LangChainDeprecationWarning: `connection_string` was deprecated in LangChain 0.2.2 and will be removed in 1.0. Use connection instead.\n",
      "  message_history = self.get_session_history(\n"
     ]
    },
    {
     "name": "stdout",
     "output_type": "stream",
     "text": [
      "\n",
      "🧠 Question: What is the purpose of getting vica ?\n",
      "🎙️ Listening...\n",
      "🗣️ You said: the purpose of getting visa is to travel\n"
     ]
    },
    {
     "ename": "KeyboardInterrupt",
     "evalue": "",
     "output_type": "error",
     "traceback": [
      "\u001b[31m---------------------------------------------------------------------------\u001b[39m",
      "\u001b[31mKeyboardInterrupt\u001b[39m                         Traceback (most recent call last)",
      "\u001b[36mCell\u001b[39m\u001b[36m \u001b[39m\u001b[32mIn[10]\u001b[39m\u001b[32m, line 1\u001b[39m\n\u001b[32m----> \u001b[39m\u001b[32m1\u001b[39m \u001b[43mrun_mock_interview\u001b[49m\u001b[43m(\u001b[49m\u001b[43m)\u001b[49m\n",
      "\u001b[36mCell\u001b[39m\u001b[36m \u001b[39m\u001b[32mIn[9]\u001b[39m\u001b[32m, line 21\u001b[39m, in \u001b[36mrun_mock_interview\u001b[39m\u001b[34m()\u001b[39m\n\u001b[32m     18\u001b[39m result = runnable_with_history.invoke({\u001b[33m'\u001b[39m\u001b[33mquestion\u001b[39m\u001b[33m'\u001b[39m: q, \u001b[33m\"\u001b[39m\u001b[33manswer\u001b[39m\u001b[33m\"\u001b[39m: answer, \u001b[33m\"\u001b[39m\u001b[33mfollowup_question\u001b[39m\u001b[33m\"\u001b[39m: next_question, \u001b[33m'\u001b[39m\u001b[33minput\u001b[39m\u001b[33m'\u001b[39m: \u001b[33m\"\u001b[39m\u001b[33msome_input_value\u001b[39m\u001b[33m\"\u001b[39m},config={\u001b[33m\"\u001b[39m\u001b[33mconfigurable\u001b[39m\u001b[33m\"\u001b[39m: {\u001b[33m\"\u001b[39m\u001b[33msession_id\u001b[39m\u001b[33m\"\u001b[39m: \u001b[33m\"\u001b[39m\u001b[33m2\u001b[39m\u001b[33m\"\u001b[39m}})\n\u001b[32m     20\u001b[39m \u001b[38;5;66;03m# Speak the LLM's response\u001b[39;00m\n\u001b[32m---> \u001b[39m\u001b[32m21\u001b[39m \u001b[43mspeak\u001b[49m\u001b[43m(\u001b[49m\u001b[43mresult\u001b[49m\u001b[43m.\u001b[49m\u001b[43mcontent\u001b[49m\u001b[43m)\u001b[49m\n\u001b[32m     23\u001b[39m \u001b[38;5;66;03m# Save the response\u001b[39;00m\n\u001b[32m     24\u001b[39m responses.append({\n\u001b[32m     25\u001b[39m     \u001b[33m\"\u001b[39m\u001b[33mquestion\u001b[39m\u001b[33m\"\u001b[39m: q,\n\u001b[32m     26\u001b[39m     \u001b[33m\"\u001b[39m\u001b[33manswer\u001b[39m\u001b[33m\"\u001b[39m: answer,\n\u001b[32m     27\u001b[39m     \u001b[33m\"\u001b[39m\u001b[33mfeedback\u001b[39m\u001b[33m\"\u001b[39m: result.content\n\u001b[32m     28\u001b[39m })\n",
      "\u001b[36mCell\u001b[39m\u001b[36m \u001b[39m\u001b[32mIn[7]\u001b[39m\u001b[32m, line 3\u001b[39m, in \u001b[36mspeak\u001b[39m\u001b[34m(text)\u001b[39m\n\u001b[32m      1\u001b[39m \u001b[38;5;28;01mdef\u001b[39;00m\u001b[38;5;250m \u001b[39m\u001b[34mspeak\u001b[39m(text):\n\u001b[32m      2\u001b[39m     engine.say(text)\n\u001b[32m----> \u001b[39m\u001b[32m3\u001b[39m     \u001b[43mengine\u001b[49m\u001b[43m.\u001b[49m\u001b[43mrunAndWait\u001b[49m\u001b[43m(\u001b[49m\u001b[43m)\u001b[49m\n",
      "\u001b[36mFile \u001b[39m\u001b[32mc:\\Users\\AkshayKumarBM\\miniconda3\\envs\\voic\\Lib\\site-packages\\pyttsx3\\engine.py:183\u001b[39m, in \u001b[36mEngine.runAndWait\u001b[39m\u001b[34m(self)\u001b[39m\n\u001b[32m    181\u001b[39m \u001b[38;5;28mself\u001b[39m._inLoop = \u001b[38;5;28;01mTrue\u001b[39;00m\n\u001b[32m    182\u001b[39m \u001b[38;5;28mself\u001b[39m._driverLoop = \u001b[38;5;28;01mTrue\u001b[39;00m\n\u001b[32m--> \u001b[39m\u001b[32m183\u001b[39m \u001b[38;5;28;43mself\u001b[39;49m\u001b[43m.\u001b[49m\u001b[43mproxy\u001b[49m\u001b[43m.\u001b[49m\u001b[43mrunAndWait\u001b[49m\u001b[43m(\u001b[49m\u001b[43m)\u001b[49m\n",
      "\u001b[36mFile \u001b[39m\u001b[32mc:\\Users\\AkshayKumarBM\\miniconda3\\envs\\voic\\Lib\\site-packages\\pyttsx3\\driver.py:195\u001b[39m, in \u001b[36mDriverProxy.runAndWait\u001b[39m\u001b[34m(self)\u001b[39m\n\u001b[32m    190\u001b[39m \u001b[38;5;250m\u001b[39m\u001b[33;03m'''\u001b[39;00m\n\u001b[32m    191\u001b[39m \u001b[33;03mCalled by the engine to start an event loop, process all commands in\u001b[39;00m\n\u001b[32m    192\u001b[39m \u001b[33;03mthe queue at the start of the loop, and then exit the loop.\u001b[39;00m\n\u001b[32m    193\u001b[39m \u001b[33;03m'''\u001b[39;00m\n\u001b[32m    194\u001b[39m \u001b[38;5;28mself\u001b[39m._push(\u001b[38;5;28mself\u001b[39m._engine.endLoop, \u001b[38;5;28mtuple\u001b[39m())\n\u001b[32m--> \u001b[39m\u001b[32m195\u001b[39m \u001b[38;5;28;43mself\u001b[39;49m\u001b[43m.\u001b[49m\u001b[43m_driver\u001b[49m\u001b[43m.\u001b[49m\u001b[43mstartLoop\u001b[49m\u001b[43m(\u001b[49m\u001b[43m)\u001b[49m\n",
      "\u001b[36mFile \u001b[39m\u001b[32mc:\\Users\\AkshayKumarBM\\miniconda3\\envs\\voic\\Lib\\site-packages\\pyttsx3\\drivers\\sapi5.py:146\u001b[39m, in \u001b[36mSAPI5Driver.startLoop\u001b[39m\u001b[34m(self)\u001b[39m\n\u001b[32m    144\u001b[39m     first = \u001b[38;5;28;01mFalse\u001b[39;00m\n\u001b[32m    145\u001b[39m pythoncom.PumpWaitingMessages()\n\u001b[32m--> \u001b[39m\u001b[32m146\u001b[39m \u001b[43mtime\u001b[49m\u001b[43m.\u001b[49m\u001b[43msleep\u001b[49m\u001b[43m(\u001b[49m\u001b[32;43m0.05\u001b[39;49m\u001b[43m)\u001b[49m\n",
      "\u001b[31mKeyboardInterrupt\u001b[39m: "
     ]
    }
   ],
   "source": [
    "run_mock_interview()"
   ]
  },
  {
   "cell_type": "code",
   "execution_count": null,
   "metadata": {},
   "outputs": [],
   "source": []
  }
 ],
 "metadata": {
  "kernelspec": {
   "display_name": "voic",
   "language": "python",
   "name": "python3"
  },
  "language_info": {
   "codemirror_mode": {
    "name": "ipython",
    "version": 3
   },
   "file_extension": ".py",
   "mimetype": "text/x-python",
   "name": "python",
   "nbconvert_exporter": "python",
   "pygments_lexer": "ipython3",
   "version": "3.12.0"
  }
 },
 "nbformat": 4,
 "nbformat_minor": 2
}
