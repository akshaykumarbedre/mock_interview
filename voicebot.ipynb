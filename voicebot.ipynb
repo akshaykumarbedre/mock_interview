{
 "cells": [
  {
   "cell_type": "code",
   "execution_count": 17,
   "metadata": {},
   "outputs": [],
   "source": [
    "from langchain.prompts import PromptTemplate\n",
    "from langchain_google_genai import ChatGoogleGenerativeAI\n",
    "\n",
    "import os\n",
    "from dotenv import load_dotenv\n",
    "\n",
    "# Load environment variables (for API keys)\n",
    "load_dotenv()\n",
    "\n",
    "os.environ[\"GOOGLE_API_KEY\"] = os.getenv(\"GOOGLE_API_KEY\")"
   ]
  },
  {
   "cell_type": "code",
   "execution_count": 18,
   "metadata": {},
   "outputs": [],
   "source": [
    "import pyttsx3\n",
    "import speech_recognition as sr\n",
    "import time\n",
    "import json\n",
    "\n",
    "# Initialize TTS engine\n",
    "engine = pyttsx3.init()\n",
    "engine.setProperty('rate', 150)\n",
    "\n",
    "recognizer = sr.Recognizer()\n",
    "mic = sr.Microphone()\n"
   ]
  },
  {
   "cell_type": "code",
   "execution_count": 19,
   "metadata": {},
   "outputs": [],
   "source": [
    "\n",
    "\n",
    "llm = ChatGoogleGenerativeAI(model=\"gemini-2.0-flash\",)\n",
    "\n",
    "# Define an improved feedback prompt template\n",
    "# feedback_template = \"\"\"\n",
    "# You are an empathetic interview coach helping a candidate improve their responses to common interview questions. The candidate's answers may contain speech recognition errors or be incomplete.\n",
    "\n",
    "# QUESTION: {question}\n",
    "# CANDIDATE'S ANSWER: {answer}\n",
    "\n",
    "# Please provide brief, actionable feedback that:\n",
    "# 1. Acknowledges possible speech recognition errors without dwelling on them\n",
    "# 2. Focuses on what a strong answer should contain\n",
    "# 3. Provides specific, industry-relevant guidance\n",
    "# 4. Is supportive and encouraging\n",
    "\n",
    "# Your response should be concise (max 50 words) and follow this structure:\n",
    "# followup quesiton is {followup_question}\n",
    "# Be conversational, supportive, and specific.\n",
    "\n",
    "# the ouput should consisint and oppoint \n",
    "# \"\"\"\n",
    "feedback_template = \"\"\"\n",
    "You are a helpful visa interview coach. Your feedback will be spoken aloud to the applicant through text-to-speech, so write in a natural speaking style without sections, bullet points, or special formatting.\n",
    "\n",
    "QUESTION ASKED: {question}\n",
    "APPLICANT'S ANSWER: {answer}\n",
    "NEXT QUESTION IN QUEUE: {followup_question}\n",
    "\n",
    "Provide brief, conversational feedback (60-80 words) that:\n",
    "1. Acknowledges one strength in their answer\n",
    "2. Suggests one specific improvement\n",
    "3. Smoothly transitions to the next question\n",
    "\n",
    "Guidelines:\n",
    "- Use natural speech patterns suitable for speaking aloud\n",
    "- Avoid phrases like \"FEEDBACK:\", \"STRENGTHS:\", or any headings\n",
    "- Don't repeat the applicant's full answer back to them\n",
    "- Don't use special characters, bullet points, or numbering\n",
    "- End by clearly stating \"Now for your next question:\" followed by the exact text of the follow-up question , if there is no followup question conclude it key point to imporve \n",
    "\n",
    "Example of good response style:\n",
    "\"That's a good point about your return ticket. You might want to mention your job commitments back home as well, as this shows ties to your country. Now for your next question: What is the purpose of your visit?\"\n",
    "\"\"\"\n",
    "feedback_prompt = PromptTemplate(\n",
    "    input_variables=[\"question\", \"answer\",\"followup_question\"],\n",
    "    template=feedback_template\n",
    ")\n",
    "\n",
    "chain=feedback_prompt|llm"
   ]
  },
  {
   "cell_type": "code",
   "execution_count": null,
   "metadata": {},
   "outputs": [],
   "source": [
    "\n",
    "questions = [\n",
    "    \"Why did you choose this particular time to travel?.\",\n",
    "    \"What is the purpose of getting vica ?\",\n",
    "    \"Why are you traveling at this time?\",\n",
    "    \"Have you traveled abroad before?\",\n",
    "    \"Do you have travel insurance?\",\n",
    "    \"What do you do for a living in your home country?\"\n",
    "]"
   ]
  },
  {
   "cell_type": "code",
   "execution_count": 21,
   "metadata": {},
   "outputs": [],
   "source": [
    "def speak(text):\n",
    "    engine.say(text)\n",
    "    engine.runAndWait()\n"
   ]
  },
  {
   "cell_type": "code",
   "execution_count": 22,
   "metadata": {},
   "outputs": [],
   "source": [
    "def listen_to_answer():\n",
    "    with mic as source:\n",
    "        recognizer.adjust_for_ambient_noise(source)\n",
    "        print(\"🎙️ Listening...\")\n",
    "        audio = recognizer.listen(source)\n",
    "\n",
    "    try:\n",
    "        response = recognizer.recognize_google(audio)\n",
    "        print(f\"🗣️ You said: {response}\")\n",
    "        return response\n",
    "    except sr.UnknownValueError:\n",
    "        print(\"❌ Sorry, I couldn't understand you.\")\n",
    "        return \"[Unrecognized speech]\"\n",
    "    except sr.RequestError:\n",
    "        print(\"⚠️ Could not reach the speech service.\")\n",
    "        return \"[Speech service error]\""
   ]
  },
  {
   "cell_type": "code",
   "execution_count": 23,
   "metadata": {},
   "outputs": [],
   "source": [
    "responses = []\n",
    "def run_mock_interview():\n",
    "    print(\"🤖 Starting your mock interview...\")\n",
    "    speak(\"Welcome to your mock interview. Let's begin.\")\n",
    "    speak(questions[0])\n",
    "\n",
    "    for i, q in enumerate(questions):\n",
    "        print(f\"\\n🧠 Question: {q}\")\n",
    "        # speak(q)\n",
    "        \n",
    "        # Listen to the candidate's answer\n",
    "        answer = listen_to_answer()\n",
    "        \n",
    "        # Determine the follow-up question\n",
    "        next_question = questions[i + 1] if i + 1 < len(questions) else \"No further questions.\"\n",
    "        \n",
    "        # Pass the question, answer, and follow-up question to the LLM\n",
    "        result = chain.invoke({'question': q, \"answer\": answer, \"followup_question\": next_question})\n",
    "        \n",
    "        # Speak the LLM's response\n",
    "        speak(result.content)\n",
    "        \n",
    "        # Save the response\n",
    "        responses.append({\n",
    "            \"question\": q,\n",
    "            \"answer\": answer,\n",
    "            \"feedback\": result.content\n",
    "        })\n",
    "        \n",
    "        input(\"Press Enter for the next question...\")\n",
    "\n",
    "    # Save responses to a file\n",
    "    with open(\"interview_responses.json\", \"w\", encoding='utf-8') as f:\n",
    "        json.dump(responses, f, indent=4)\n",
    "\n",
    "    speak(\"Thank you. This concludes your mock interview.\")\n",
    "    print(\"\\n✅ Done! Your responses have been saved to 'interview_responses.json'.\")\n"
   ]
  },
  {
   "cell_type": "code",
   "execution_count": 24,
   "metadata": {},
   "outputs": [
    {
     "name": "stdout",
     "output_type": "stream",
     "text": [
      "🤖 Starting your mock interview...\n",
      "\n",
      "🧠 Question: Why did you choose this particular time to travel?.\n",
      "🎙️ Listening...\n",
      "🗣️ You said: I like to travel at this time\n",
      "\n",
      "🧠 Question: What is the purpose of getig vica ?\n",
      "🎙️ Listening...\n",
      "🗣️ You said: forgetting permission into leaving another country\n",
      "\n",
      "🧠 Question: Why are you traveling at this time?\n",
      "🎙️ Listening...\n",
      "🗣️ You said: what is Bittu travel\n",
      "\n",
      "🧠 Question: Have you traveled abroad before?\n",
      "🎙️ Listening...\n",
      "❌ Sorry, I couldn't understand you.\n",
      "\n",
      "🧠 Question: Do you have travel insurance?\n",
      "🎙️ Listening...\n",
      "❌ Sorry, I couldn't understand you.\n",
      "\n",
      "🧠 Question: What do you do for a living in your home country?\n",
      "🎙️ Listening...\n",
      "❌ Sorry, I couldn't understand you.\n",
      "\n",
      "✅ Done! Your responses have been saved to 'interview_responses.json'.\n"
     ]
    }
   ],
   "source": [
    "run_mock_interview()"
   ]
  },
  {
   "cell_type": "code",
   "execution_count": null,
   "metadata": {},
   "outputs": [],
   "source": []
  }
 ],
 "metadata": {
  "kernelspec": {
   "display_name": "voic",
   "language": "python",
   "name": "python3"
  },
  "language_info": {
   "codemirror_mode": {
    "name": "ipython",
    "version": 3
   },
   "file_extension": ".py",
   "mimetype": "text/x-python",
   "name": "python",
   "nbconvert_exporter": "python",
   "pygments_lexer": "ipython3",
   "version": "3.12.0"
  }
 },
 "nbformat": 4,
 "nbformat_minor": 2
}
